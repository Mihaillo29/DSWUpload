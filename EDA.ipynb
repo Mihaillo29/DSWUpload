{
 "cells": [
  {
   "cell_type": "code",
   "execution_count": 15,
   "metadata": {},
   "outputs": [],
   "source": [
    "import pandas as pd\n",
    "import numpy as np\n",
    "import seaborn as sns\n",
    "import matplotlib.pyplot as plt"
   ]
  },
  {
   "cell_type": "code",
   "execution_count": 16,
   "metadata": {},
   "outputs": [],
   "source": [
    "train_data = pd.read_excel(\"train_data.xlsx\")"
   ]
  },
  {
   "cell_type": "code",
   "execution_count": 17,
   "metadata": {},
   "outputs": [
    {
     "data": {
      "text/html": [
       "<div>\n",
       "<style scoped>\n",
       "    .dataframe tbody tr th:only-of-type {\n",
       "        vertical-align: middle;\n",
       "    }\n",
       "\n",
       "    .dataframe tbody tr th {\n",
       "        vertical-align: top;\n",
       "    }\n",
       "\n",
       "    .dataframe thead th {\n",
       "        text-align: right;\n",
       "    }\n",
       "</style>\n",
       "<table border=\"1\" class=\"dataframe\">\n",
       "  <thead>\n",
       "    <tr style=\"text-align: right;\">\n",
       "      <th></th>\n",
       "      <th>customer_id</th>\n",
       "      <th>transaction_date</th>\n",
       "      <th>sub_grade</th>\n",
       "      <th>term</th>\n",
       "      <th>home_ownership</th>\n",
       "      <th>cibil_score</th>\n",
       "      <th>total_no_of_acc</th>\n",
       "      <th>annual_inc</th>\n",
       "      <th>int_rate</th>\n",
       "      <th>purpose</th>\n",
       "      <th>loan_amnt</th>\n",
       "      <th>application_type</th>\n",
       "      <th>installment</th>\n",
       "      <th>verification_status</th>\n",
       "      <th>account_bal</th>\n",
       "      <th>emp_length</th>\n",
       "      <th>loan_status</th>\n",
       "    </tr>\n",
       "  </thead>\n",
       "  <tbody>\n",
       "    <tr>\n",
       "      <th>0</th>\n",
       "      <td>10608026</td>\n",
       "      <td>2014-01-01</td>\n",
       "      <td>C5</td>\n",
       "      <td>36 months</td>\n",
       "      <td>MORTGAGE</td>\n",
       "      <td>665</td>\n",
       "      <td>9</td>\n",
       "      <td>70000.0</td>\n",
       "      <td>16.24</td>\n",
       "      <td>debt_consolidation</td>\n",
       "      <td>7200</td>\n",
       "      <td>Individual</td>\n",
       "      <td>253.99</td>\n",
       "      <td>Verified</td>\n",
       "      <td>4648</td>\n",
       "      <td>11</td>\n",
       "      <td>0</td>\n",
       "    </tr>\n",
       "    <tr>\n",
       "      <th>1</th>\n",
       "      <td>10235120</td>\n",
       "      <td>2014-01-01</td>\n",
       "      <td>E5</td>\n",
       "      <td>36 months</td>\n",
       "      <td>MORTGAGE</td>\n",
       "      <td>660</td>\n",
       "      <td>8</td>\n",
       "      <td>65000.0</td>\n",
       "      <td>23.40</td>\n",
       "      <td>home_improvement</td>\n",
       "      <td>6000</td>\n",
       "      <td>Individual</td>\n",
       "      <td>233.52</td>\n",
       "      <td>Source Verified</td>\n",
       "      <td>14051</td>\n",
       "      <td>11</td>\n",
       "      <td>1</td>\n",
       "    </tr>\n",
       "    <tr>\n",
       "      <th>2</th>\n",
       "      <td>10705805</td>\n",
       "      <td>2014-01-01</td>\n",
       "      <td>D2</td>\n",
       "      <td>36 months</td>\n",
       "      <td>MORTGAGE</td>\n",
       "      <td>660</td>\n",
       "      <td>7</td>\n",
       "      <td>73000.0</td>\n",
       "      <td>17.57</td>\n",
       "      <td>other</td>\n",
       "      <td>8000</td>\n",
       "      <td>Individual</td>\n",
       "      <td>287.50</td>\n",
       "      <td>Verified</td>\n",
       "      <td>14885</td>\n",
       "      <td>11</td>\n",
       "      <td>0</td>\n",
       "    </tr>\n",
       "    <tr>\n",
       "      <th>3</th>\n",
       "      <td>11044991</td>\n",
       "      <td>2014-01-01</td>\n",
       "      <td>B4</td>\n",
       "      <td>36 months</td>\n",
       "      <td>MORTGAGE</td>\n",
       "      <td>690</td>\n",
       "      <td>5</td>\n",
       "      <td>118000.0</td>\n",
       "      <td>12.85</td>\n",
       "      <td>debt_consolidation</td>\n",
       "      <td>10000</td>\n",
       "      <td>Individual</td>\n",
       "      <td>336.22</td>\n",
       "      <td>Source Verified</td>\n",
       "      <td>7542</td>\n",
       "      <td>2</td>\n",
       "      <td>1</td>\n",
       "    </tr>\n",
       "    <tr>\n",
       "      <th>4</th>\n",
       "      <td>10161054</td>\n",
       "      <td>2014-01-01</td>\n",
       "      <td>C3</td>\n",
       "      <td>60 months</td>\n",
       "      <td>MORTGAGE</td>\n",
       "      <td>665</td>\n",
       "      <td>5</td>\n",
       "      <td>63000.0</td>\n",
       "      <td>14.98</td>\n",
       "      <td>debt_consolidation</td>\n",
       "      <td>10000</td>\n",
       "      <td>Individual</td>\n",
       "      <td>237.80</td>\n",
       "      <td>Verified</td>\n",
       "      <td>6318</td>\n",
       "      <td>11</td>\n",
       "      <td>0</td>\n",
       "    </tr>\n",
       "  </tbody>\n",
       "</table>\n",
       "</div>"
      ],
      "text/plain": [
       "   customer_id transaction_date sub_grade        term home_ownership  \\\n",
       "0     10608026       2014-01-01        C5   36 months       MORTGAGE   \n",
       "1     10235120       2014-01-01        E5   36 months       MORTGAGE   \n",
       "2     10705805       2014-01-01        D2   36 months       MORTGAGE   \n",
       "3     11044991       2014-01-01        B4   36 months       MORTGAGE   \n",
       "4     10161054       2014-01-01        C3   60 months       MORTGAGE   \n",
       "\n",
       "   cibil_score  total_no_of_acc  annual_inc  int_rate             purpose  \\\n",
       "0          665                9     70000.0     16.24  debt_consolidation   \n",
       "1          660                8     65000.0     23.40    home_improvement   \n",
       "2          660                7     73000.0     17.57               other   \n",
       "3          690                5    118000.0     12.85  debt_consolidation   \n",
       "4          665                5     63000.0     14.98  debt_consolidation   \n",
       "\n",
       "   loan_amnt application_type  installment verification_status  account_bal  \\\n",
       "0       7200       Individual       253.99            Verified         4648   \n",
       "1       6000       Individual       233.52     Source Verified        14051   \n",
       "2       8000       Individual       287.50            Verified        14885   \n",
       "3      10000       Individual       336.22     Source Verified         7542   \n",
       "4      10000       Individual       237.80            Verified         6318   \n",
       "\n",
       "   emp_length  loan_status  \n",
       "0          11            0  \n",
       "1          11            1  \n",
       "2          11            0  \n",
       "3           2            1  \n",
       "4          11            0  "
      ]
     },
     "execution_count": 17,
     "metadata": {},
     "output_type": "execute_result"
    }
   ],
   "source": [
    "train_data.head()"
   ]
  },
  {
   "cell_type": "code",
   "execution_count": 35,
   "metadata": {},
   "outputs": [
    {
     "name": "stdout",
     "output_type": "stream",
     "text": [
      "Dataset Info:\n",
      "<class 'pandas.core.frame.DataFrame'>\n",
      "RangeIndex: 113705 entries, 0 to 113704\n",
      "Data columns (total 17 columns):\n",
      " #   Column               Non-Null Count   Dtype         \n",
      "---  ------               --------------   -----         \n",
      " 0   customer_id          113705 non-null  int64         \n",
      " 1   transaction_date     113705 non-null  datetime64[ns]\n",
      " 2   sub_grade            113705 non-null  object        \n",
      " 3   term                 113705 non-null  object        \n",
      " 4   home_ownership       113705 non-null  object        \n",
      " 5   cibil_score          113705 non-null  int64         \n",
      " 6   total_no_of_acc      113705 non-null  int64         \n",
      " 7   annual_inc           113705 non-null  float64       \n",
      " 8   int_rate             113705 non-null  float64       \n",
      " 9   purpose              113705 non-null  object        \n",
      " 10  loan_amnt            113705 non-null  int64         \n",
      " 11  application_type     113705 non-null  object        \n",
      " 12  installment          113705 non-null  float64       \n",
      " 13  verification_status  113705 non-null  object        \n",
      " 14  account_bal          113705 non-null  int64         \n",
      " 15  emp_length           113705 non-null  int64         \n",
      " 16  loan_status          113705 non-null  int64         \n",
      "dtypes: datetime64[ns](1), float64(3), int64(7), object(6)\n",
      "memory usage: 14.7+ MB\n",
      "None\n"
     ]
    }
   ],
   "source": [
    "sns.set_style(\"whitegrid\")\n",
    "\n",
    "# 1. Basic statistics and data types\n",
    "print(\"Dataset Info:\")\n",
    "print(train_data.info())"
   ]
  },
  {
   "cell_type": "markdown",
   "metadata": {},
   "source": [
    "##### The dataset contains 113705 rows and 17 columns."
   ]
  },
  {
   "cell_type": "code",
   "execution_count": 26,
   "metadata": {},
   "outputs": [
    {
     "data": {
      "text/plain": [
       "array([665, 660, 690, 680, 675, 670, 700, 695, 710, 715, 685, 720, 705,\n",
       "       735, 740, 730, 725, 760, 750, 800, 745, 795, 765, 755, 770, 785,\n",
       "       780, 775, 805, 830, 790, 810, 820, 835, 825, 845, 815, 840],\n",
       "      dtype=int64)"
      ]
     },
     "execution_count": 26,
     "metadata": {},
     "output_type": "execute_result"
    }
   ],
   "source": [
    "train_data['cibil_score'].unique()"
   ]
  },
  {
   "cell_type": "code",
   "execution_count": 27,
   "metadata": {},
   "outputs": [
    {
     "data": {
      "text/plain": [
       "array([0, 1], dtype=int64)"
      ]
     },
     "execution_count": 27,
     "metadata": {},
     "output_type": "execute_result"
    }
   ],
   "source": [
    "train_data['loan_status'].unique()"
   ]
  },
  {
   "cell_type": "code",
   "execution_count": null,
   "metadata": {},
   "outputs": [
    {
     "data": {
      "text/plain": [
       "array([ 70000.  ,  65000.  ,  73000.  , ..., 106745.  , 136000.02,\n",
       "        56275.  ])"
      ]
     },
     "execution_count": 29,
     "metadata": {},
     "output_type": "execute_result"
    }
   ],
   "source": [
    "train_data['annual_inc'].unique() # We have to normalize this as there are values that will be drifting so much from the mean"
   ]
  },
  {
   "cell_type": "code",
   "execution_count": 36,
   "metadata": {},
   "outputs": [
    {
     "name": "stdout",
     "output_type": "stream",
     "text": [
      "Mean Annual Income: 71388.21860938393\n",
      "Variance of Annual Income: 3660994910.2423167\n",
      "Standard Deviation of Annual Income: 60506.15596980457\n"
     ]
    }
   ],
   "source": [
    "# Calculate mean, variance, and standard deviation\n",
    "mean_annual_inc = train_data['annual_inc'].mean()\n",
    "variance_annual_inc = train_data['annual_inc'].var()\n",
    "std_annual_inc = train_data['annual_inc'].std()\n",
    "\n",
    "# Print the results\n",
    "print(f\"Mean Annual Income: {mean_annual_inc}\")\n",
    "print(f\"Variance of Annual Income: {variance_annual_inc}\")\n",
    "print(f\"Standard Deviation of Annual Income: {std_annual_inc}\")\n"
   ]
  },
  {
   "cell_type": "markdown",
   "metadata": {},
   "source": [
    "### The large standard deviation and variance highlight that the income distribution is wide, with both low and high earners in the dataset.\n",
    "### Since the standard deviation is close to the mean, there might be some extreme outliers (very high-income applicants) skewing the data.\n",
    "### We have to Normalize this"
   ]
  },
  {
   "cell_type": "code",
   "execution_count": null,
   "metadata": {},
   "outputs": [
    {
     "data": {
      "text/plain": [
       "array([ 7200,  6000,  8000, ..., 38400, 32575, 39700], dtype=int64)"
      ]
     },
     "execution_count": 37,
     "metadata": {},
     "output_type": "execute_result"
    }
   ],
   "source": [
    "train_data['loan_amnt'].unique()  # We have to normalize this as there are values that will be drifting so much from the mean"
   ]
  },
  {
   "cell_type": "code",
   "execution_count": 39,
   "metadata": {},
   "outputs": [
    {
     "name": "stdout",
     "output_type": "stream",
     "text": [
      "Mean loan amount: 15158.14498043182\n",
      "Variance of loan amount: 82651369.33269717\n",
      "Standard Deviation of loan amount: 9091.279851192414\n"
     ]
    }
   ],
   "source": [
    "# Calculate mean, variance, and standard deviation\n",
    "mean_annual_inc = train_data['loan_amnt'].mean()\n",
    "variance_annual_inc = train_data['loan_amnt'].var()\n",
    "std_annual_inc = train_data['loan_amnt'].std()\n",
    "\n",
    "# Print the results\n",
    "print(f\"Mean loan amount: {mean_annual_inc}\")\n",
    "print(f\"Variance of loan amount: {variance_annual_inc}\")\n",
    "print(f\"Standard Deviation of loan amount: {std_annual_inc}\")\n"
   ]
  },
  {
   "cell_type": "markdown",
   "metadata": {},
   "source": [
    "### A significant proportion of applicants borrow loans in the small-to-mid range.\n",
    "#### Some outliers with large loan amounts likely exist, as indicated by the large variance and standard deviation.\n",
    "#### we have to normalize this"
   ]
  },
  {
   "cell_type": "code",
   "execution_count": 19,
   "metadata": {},
   "outputs": [
    {
     "name": "stdout",
     "output_type": "stream",
     "text": [
      "\n",
      "Summary Statistics:\n"
     ]
    },
    {
     "data": {
      "text/html": [
       "<div>\n",
       "<style scoped>\n",
       "    .dataframe tbody tr th:only-of-type {\n",
       "        vertical-align: middle;\n",
       "    }\n",
       "\n",
       "    .dataframe tbody tr th {\n",
       "        vertical-align: top;\n",
       "    }\n",
       "\n",
       "    .dataframe thead th {\n",
       "        text-align: right;\n",
       "    }\n",
       "</style>\n",
       "<table border=\"1\" class=\"dataframe\">\n",
       "  <thead>\n",
       "    <tr style=\"text-align: right;\">\n",
       "      <th></th>\n",
       "      <th>customer_id</th>\n",
       "      <th>transaction_date</th>\n",
       "      <th>sub_grade</th>\n",
       "      <th>term</th>\n",
       "      <th>home_ownership</th>\n",
       "      <th>cibil_score</th>\n",
       "      <th>total_no_of_acc</th>\n",
       "      <th>annual_inc</th>\n",
       "      <th>int_rate</th>\n",
       "      <th>purpose</th>\n",
       "      <th>loan_amnt</th>\n",
       "      <th>application_type</th>\n",
       "      <th>installment</th>\n",
       "      <th>verification_status</th>\n",
       "      <th>account_bal</th>\n",
       "      <th>emp_length</th>\n",
       "      <th>loan_status</th>\n",
       "    </tr>\n",
       "  </thead>\n",
       "  <tbody>\n",
       "    <tr>\n",
       "      <th>count</th>\n",
       "      <td>1.137050e+05</td>\n",
       "      <td>113705</td>\n",
       "      <td>113705</td>\n",
       "      <td>113705</td>\n",
       "      <td>113705</td>\n",
       "      <td>113705.000000</td>\n",
       "      <td>113705.000000</td>\n",
       "      <td>1.137050e+05</td>\n",
       "      <td>113705.000000</td>\n",
       "      <td>113705</td>\n",
       "      <td>113705.000000</td>\n",
       "      <td>113705</td>\n",
       "      <td>113705.000000</td>\n",
       "      <td>113705</td>\n",
       "      <td>113705.000000</td>\n",
       "      <td>113705.000000</td>\n",
       "      <td>113705.000000</td>\n",
       "    </tr>\n",
       "    <tr>\n",
       "      <th>unique</th>\n",
       "      <td>NaN</td>\n",
       "      <td>NaN</td>\n",
       "      <td>27</td>\n",
       "      <td>2</td>\n",
       "      <td>3</td>\n",
       "      <td>NaN</td>\n",
       "      <td>NaN</td>\n",
       "      <td>NaN</td>\n",
       "      <td>NaN</td>\n",
       "      <td>13</td>\n",
       "      <td>NaN</td>\n",
       "      <td>2</td>\n",
       "      <td>NaN</td>\n",
       "      <td>3</td>\n",
       "      <td>NaN</td>\n",
       "      <td>NaN</td>\n",
       "      <td>NaN</td>\n",
       "    </tr>\n",
       "    <tr>\n",
       "      <th>top</th>\n",
       "      <td>NaN</td>\n",
       "      <td>NaN</td>\n",
       "      <td>C2</td>\n",
       "      <td>36 months</td>\n",
       "      <td>MORTGAGE</td>\n",
       "      <td>NaN</td>\n",
       "      <td>NaN</td>\n",
       "      <td>NaN</td>\n",
       "      <td>NaN</td>\n",
       "      <td>debt_consolidation</td>\n",
       "      <td>NaN</td>\n",
       "      <td>Individual</td>\n",
       "      <td>NaN</td>\n",
       "      <td>Source Verified</td>\n",
       "      <td>NaN</td>\n",
       "      <td>NaN</td>\n",
       "      <td>NaN</td>\n",
       "    </tr>\n",
       "    <tr>\n",
       "      <th>freq</th>\n",
       "      <td>NaN</td>\n",
       "      <td>NaN</td>\n",
       "      <td>12549</td>\n",
       "      <td>71625</td>\n",
       "      <td>53462</td>\n",
       "      <td>NaN</td>\n",
       "      <td>NaN</td>\n",
       "      <td>NaN</td>\n",
       "      <td>NaN</td>\n",
       "      <td>71770</td>\n",
       "      <td>NaN</td>\n",
       "      <td>113259</td>\n",
       "      <td>NaN</td>\n",
       "      <td>48981</td>\n",
       "      <td>NaN</td>\n",
       "      <td>NaN</td>\n",
       "      <td>NaN</td>\n",
       "    </tr>\n",
       "    <tr>\n",
       "      <th>mean</th>\n",
       "      <td>4.359137e+07</td>\n",
       "      <td>2015-03-04 22:24:20.769535232</td>\n",
       "      <td>NaN</td>\n",
       "      <td>NaN</td>\n",
       "      <td>NaN</td>\n",
       "      <td>684.398707</td>\n",
       "      <td>0.272934</td>\n",
       "      <td>7.138822e+04</td>\n",
       "      <td>15.955469</td>\n",
       "      <td>NaN</td>\n",
       "      <td>15158.144980</td>\n",
       "      <td>NaN</td>\n",
       "      <td>454.241150</td>\n",
       "      <td>NaN</td>\n",
       "      <td>15820.487094</td>\n",
       "      <td>5.959782</td>\n",
       "      <td>0.738895</td>\n",
       "    </tr>\n",
       "    <tr>\n",
       "      <th>min</th>\n",
       "      <td>3.630090e+05</td>\n",
       "      <td>2014-01-01 00:00:00</td>\n",
       "      <td>NaN</td>\n",
       "      <td>NaN</td>\n",
       "      <td>NaN</td>\n",
       "      <td>660.000000</td>\n",
       "      <td>0.000000</td>\n",
       "      <td>0.000000e+00</td>\n",
       "      <td>12.050000</td>\n",
       "      <td>NaN</td>\n",
       "      <td>1000.000000</td>\n",
       "      <td>NaN</td>\n",
       "      <td>33.240000</td>\n",
       "      <td>NaN</td>\n",
       "      <td>0.000000</td>\n",
       "      <td>0.000000</td>\n",
       "      <td>0.000000</td>\n",
       "    </tr>\n",
       "    <tr>\n",
       "      <th>25%</th>\n",
       "      <td>2.509597e+07</td>\n",
       "      <td>2014-08-01 00:00:00</td>\n",
       "      <td>NaN</td>\n",
       "      <td>NaN</td>\n",
       "      <td>NaN</td>\n",
       "      <td>665.000000</td>\n",
       "      <td>0.000000</td>\n",
       "      <td>4.300000e+04</td>\n",
       "      <td>13.330000</td>\n",
       "      <td>NaN</td>\n",
       "      <td>8000.000000</td>\n",
       "      <td>NaN</td>\n",
       "      <td>265.740000</td>\n",
       "      <td>NaN</td>\n",
       "      <td>5656.000000</td>\n",
       "      <td>2.000000</td>\n",
       "      <td>0.000000</td>\n",
       "    </tr>\n",
       "    <tr>\n",
       "      <th>50%</th>\n",
       "      <td>4.504932e+07</td>\n",
       "      <td>2015-04-01 00:00:00</td>\n",
       "      <td>NaN</td>\n",
       "      <td>NaN</td>\n",
       "      <td>NaN</td>\n",
       "      <td>680.000000</td>\n",
       "      <td>0.000000</td>\n",
       "      <td>6.000000e+04</td>\n",
       "      <td>14.990000</td>\n",
       "      <td>NaN</td>\n",
       "      <td>13300.000000</td>\n",
       "      <td>NaN</td>\n",
       "      <td>388.290000</td>\n",
       "      <td>NaN</td>\n",
       "      <td>10841.000000</td>\n",
       "      <td>6.000000</td>\n",
       "      <td>1.000000</td>\n",
       "    </tr>\n",
       "    <tr>\n",
       "      <th>75%</th>\n",
       "      <td>6.134344e+07</td>\n",
       "      <td>2015-10-01 00:00:00</td>\n",
       "      <td>NaN</td>\n",
       "      <td>NaN</td>\n",
       "      <td>NaN</td>\n",
       "      <td>695.000000</td>\n",
       "      <td>0.000000</td>\n",
       "      <td>8.500000e+04</td>\n",
       "      <td>17.860000</td>\n",
       "      <td>NaN</td>\n",
       "      <td>20225.000000</td>\n",
       "      <td>NaN</td>\n",
       "      <td>599.530000</td>\n",
       "      <td>NaN</td>\n",
       "      <td>19682.000000</td>\n",
       "      <td>11.000000</td>\n",
       "      <td>1.000000</td>\n",
       "    </tr>\n",
       "    <tr>\n",
       "      <th>max</th>\n",
       "      <td>7.615383e+07</td>\n",
       "      <td>2016-03-01 00:00:00</td>\n",
       "      <td>NaN</td>\n",
       "      <td>NaN</td>\n",
       "      <td>NaN</td>\n",
       "      <td>845.000000</td>\n",
       "      <td>10.000000</td>\n",
       "      <td>8.900060e+06</td>\n",
       "      <td>28.990000</td>\n",
       "      <td>NaN</td>\n",
       "      <td>40000.000000</td>\n",
       "      <td>NaN</td>\n",
       "      <td>1460.430000</td>\n",
       "      <td>NaN</td>\n",
       "      <td>875598.000000</td>\n",
       "      <td>11.000000</td>\n",
       "      <td>1.000000</td>\n",
       "    </tr>\n",
       "    <tr>\n",
       "      <th>std</th>\n",
       "      <td>2.016104e+07</td>\n",
       "      <td>NaN</td>\n",
       "      <td>NaN</td>\n",
       "      <td>NaN</td>\n",
       "      <td>NaN</td>\n",
       "      <td>22.871241</td>\n",
       "      <td>0.647328</td>\n",
       "      <td>6.050616e+04</td>\n",
       "      <td>3.234215</td>\n",
       "      <td>NaN</td>\n",
       "      <td>9091.279851</td>\n",
       "      <td>NaN</td>\n",
       "      <td>268.251678</td>\n",
       "      <td>NaN</td>\n",
       "      <td>20447.614824</td>\n",
       "      <td>4.229570</td>\n",
       "      <td>0.439239</td>\n",
       "    </tr>\n",
       "  </tbody>\n",
       "</table>\n",
       "</div>"
      ],
      "text/plain": [
       "         customer_id               transaction_date sub_grade        term  \\\n",
       "count   1.137050e+05                         113705    113705      113705   \n",
       "unique           NaN                            NaN        27           2   \n",
       "top              NaN                            NaN        C2   36 months   \n",
       "freq             NaN                            NaN     12549       71625   \n",
       "mean    4.359137e+07  2015-03-04 22:24:20.769535232       NaN         NaN   \n",
       "min     3.630090e+05            2014-01-01 00:00:00       NaN         NaN   \n",
       "25%     2.509597e+07            2014-08-01 00:00:00       NaN         NaN   \n",
       "50%     4.504932e+07            2015-04-01 00:00:00       NaN         NaN   \n",
       "75%     6.134344e+07            2015-10-01 00:00:00       NaN         NaN   \n",
       "max     7.615383e+07            2016-03-01 00:00:00       NaN         NaN   \n",
       "std     2.016104e+07                            NaN       NaN         NaN   \n",
       "\n",
       "       home_ownership    cibil_score  total_no_of_acc    annual_inc  \\\n",
       "count          113705  113705.000000    113705.000000  1.137050e+05   \n",
       "unique              3            NaN              NaN           NaN   \n",
       "top          MORTGAGE            NaN              NaN           NaN   \n",
       "freq            53462            NaN              NaN           NaN   \n",
       "mean              NaN     684.398707         0.272934  7.138822e+04   \n",
       "min               NaN     660.000000         0.000000  0.000000e+00   \n",
       "25%               NaN     665.000000         0.000000  4.300000e+04   \n",
       "50%               NaN     680.000000         0.000000  6.000000e+04   \n",
       "75%               NaN     695.000000         0.000000  8.500000e+04   \n",
       "max               NaN     845.000000        10.000000  8.900060e+06   \n",
       "std               NaN      22.871241         0.647328  6.050616e+04   \n",
       "\n",
       "             int_rate             purpose      loan_amnt application_type  \\\n",
       "count   113705.000000              113705  113705.000000           113705   \n",
       "unique            NaN                  13            NaN                2   \n",
       "top               NaN  debt_consolidation            NaN       Individual   \n",
       "freq              NaN               71770            NaN           113259   \n",
       "mean        15.955469                 NaN   15158.144980              NaN   \n",
       "min         12.050000                 NaN    1000.000000              NaN   \n",
       "25%         13.330000                 NaN    8000.000000              NaN   \n",
       "50%         14.990000                 NaN   13300.000000              NaN   \n",
       "75%         17.860000                 NaN   20225.000000              NaN   \n",
       "max         28.990000                 NaN   40000.000000              NaN   \n",
       "std          3.234215                 NaN    9091.279851              NaN   \n",
       "\n",
       "          installment verification_status    account_bal     emp_length  \\\n",
       "count   113705.000000              113705  113705.000000  113705.000000   \n",
       "unique            NaN                   3            NaN            NaN   \n",
       "top               NaN     Source Verified            NaN            NaN   \n",
       "freq              NaN               48981            NaN            NaN   \n",
       "mean       454.241150                 NaN   15820.487094       5.959782   \n",
       "min         33.240000                 NaN       0.000000       0.000000   \n",
       "25%        265.740000                 NaN    5656.000000       2.000000   \n",
       "50%        388.290000                 NaN   10841.000000       6.000000   \n",
       "75%        599.530000                 NaN   19682.000000      11.000000   \n",
       "max       1460.430000                 NaN  875598.000000      11.000000   \n",
       "std        268.251678                 NaN   20447.614824       4.229570   \n",
       "\n",
       "          loan_status  \n",
       "count   113705.000000  \n",
       "unique            NaN  \n",
       "top               NaN  \n",
       "freq              NaN  \n",
       "mean         0.738895  \n",
       "min          0.000000  \n",
       "25%          0.000000  \n",
       "50%          1.000000  \n",
       "75%          1.000000  \n",
       "max          1.000000  \n",
       "std          0.439239  "
      ]
     },
     "execution_count": 19,
     "metadata": {},
     "output_type": "execute_result"
    }
   ],
   "source": [
    "print(\"\\nSummary Statistics:\")\n",
    "train_data.describe(include='all')"
   ]
  },
  {
   "cell_type": "code",
   "execution_count": null,
   "metadata": {},
   "outputs": [
    {
     "name": "stderr",
     "output_type": "stream",
     "text": [
      "C:\\Users\\rahil\\AppData\\Local\\Temp\\ipykernel_1868\\3489329615.py:3: FutureWarning: \n",
      "\n",
      "Passing `palette` without assigning `hue` is deprecated and will be removed in v0.14.0. Assign the `x` variable to `hue` and set `legend=False` for the same effect.\n",
      "\n",
      "  sns.countplot(x='loan_status', data=train_data, palette='viridis')\n"
     ]
    },
    {
     "data": {
      "image/png": "[encoded data removed]",
      "text/plain": [
       "<Figure size 600x400 with 1 Axes>"
      ]
     },
     "metadata": {},
     "output_type": "display_data"
    }
   ],
   "source": [
    "#Distribution of Target Variable (loan_status)\n",
    "plt.figure(figsize=(6, 4))\n",
    "sns.countplot(x='loan_status', data=train_data, palette='viridis')\n",
    "plt.title('Distribution of Loan Status')\n",
    "plt.xlabel('Loan Status (0: Non-Default, 1: Default)')\n",
    "plt.ylabel('Count')\n",
    "plt.show()"
   ]
  },
  {
   "cell_type": "markdown",
   "metadata": {},
   "source": [
    "### The plot clearly shows a significant class imbalance between the two loan statuses.\n",
    "\n",
    "### there is a need to Handle class imbalance (i did this in model_selection.ipynb)"
   ]
  },
  {
   "cell_type": "code",
   "execution_count": 50,
   "metadata": {},
   "outputs": [
    {
     "name": "stderr",
     "output_type": "stream",
     "text": [
      "C:\\Users\\rahil\\AppData\\Local\\Temp\\ipykernel_1868\\2019251691.py:3: FutureWarning: \n",
      "\n",
      "Passing `palette` without assigning `hue` is deprecated and will be removed in v0.14.0. Assign the `x` variable to `hue` and set `legend=False` for the same effect.\n",
      "\n",
      "  sns.boxplot(x='loan_status', y='annual_inc', data=train_data, palette='Set2')\n"
     ]
    },
    {
     "data": {
      "image/png": "[encoded data removed]",
      "text/plain": [
       "<Figure size 800x600 with 1 Axes>"
      ]
     },
     "metadata": {},
     "output_type": "display_data"
    }
   ],
   "source": [
    "# Annual Income vs Loan Status\n",
    "plt.figure(figsize=(8, 6))\n",
    "sns.boxplot(x='loan_status', y='annual_inc', data=train_data, palette='Set2')\n",
    "plt.ylim(0, 200000)  # Limiting the range to focus on typical values\n",
    "plt.title('Annual Income vs Loan Status')\n",
    "plt.xlabel('Loan Status (0: Non-Default, 1: Default)')\n",
    "plt.ylabel('Annual Income')\n",
    "plt.show()"
   ]
  },
  {
   "cell_type": "markdown",
   "metadata": {},
   "source": [
    "#### The box plot suggests that income alone might not be a robust predictor of loan default.\n",
    "\n",
    "#### The presence of high-income outliers in the non-default group could be skewing the overall distribution.\n",
    "#### Further analysis without outliers might provide a clearer picture."
   ]
  },
  {
   "cell_type": "code",
   "execution_count": null,
   "metadata": {},
   "outputs": [
    {
     "name": "stderr",
     "output_type": "stream",
     "text": [
      "C:\\Users\\rahil\\AppData\\Local\\Temp\\ipykernel_1868\\1621804726.py:3: FutureWarning: \n",
      "\n",
      "Passing `palette` without assigning `hue` is deprecated and will be removed in v0.14.0. Assign the `x` variable to `hue` and set `legend=False` for the same effect.\n",
      "\n",
      "  sns.boxplot(x='loan_status', y='loan_amnt', data=train_data, palette='Set2')\n"
     ]
    },
    {
     "data": {
      "image/png": "[encoded data removed]",
      "text/plain": [
       "<Figure size 800x600 with 1 Axes>"
      ]
     },
     "metadata": {},
     "output_type": "display_data"
    }
   ],
   "source": [
    "# loan_amnt vs Loan Status\n",
    "\n",
    "plt.figure(figsize=(8, 6))\n",
    "sns.boxplot(x='loan_status', y='loan_amnt', data=train_data, palette='Set2')\n",
    "plt.title('loan_amnt vs Loan Status')\n",
    "plt.xlabel('Loan Status (0: Non-Default, 1: Default)')\n",
    "plt.ylabel('loan_amnt')\n",
    "plt.show()\n"
   ]
  },
  {
   "cell_type": "markdown",
   "metadata": {},
   "source": [
    "#### The boxes for both groups overlap considerably, indicating that loan amount alone might not be a strong predictor of loan default.\n",
    "#### here isn't a clear separation in loan amounts between those who default and those who don't.\n",
    "\n",
    "#### The box plot suggests that loan amount might not be a robust predictor of loan default"
   ]
  },
  {
   "cell_type": "code",
   "execution_count": null,
   "metadata": {},
   "outputs": [
    {
     "data": {
      "image/png": "[encoded data removed]",
      "text/plain": [
       "<Figure size 800x500 with 1 Axes>"
      ]
     },
     "metadata": {},
     "output_type": "display_data"
    }
   ],
   "source": [
    "# Distribution of CIBIL Scores\n",
    "plt.figure(figsize=(8, 5))\n",
    "sns.histplot(train_data['cibil_score'], bins=20, kde=True, color='blue')\n",
    "plt.title('Distribution of CIBIL Scores')\n",
    "plt.xlabel('CIBIL Score')\n",
    "plt.ylabel('Frequency')\n",
    "plt.show()"
   ]
  },
  {
   "cell_type": "markdown",
   "metadata": {},
   "source": [
    "#### The distribution appears to be left-skewed, meaning there are more individuals with higher CIBIL scores than lower ones."
   ]
  },
  {
   "cell_type": "markdown",
   "metadata": {},
   "source": [
    "#### Loan amount and annual income are weakly correlated with the target variable, indicating non-linear relationships or external influencing factors."
   ]
  },
  {
   "cell_type": "markdown",
   "metadata": {},
   "source": [
    "#### Features like cibil_score, int_rate, and account_bal show moderate correlations with loan_status"
   ]
  },
  {
   "cell_type": "markdown",
   "metadata": {},
   "source": [
    "-------"
   ]
  },
  {
   "cell_type": "markdown",
   "metadata": {},
   "source": [
    "### \"Based on my understanding, cibil score, annual income, interest rate, loan amount are the only features that influence the target variable.\"\n",
    "### And there is need to **Normalize** some of the features **annual income**, **loan amount**\n",
    "### \"In my opinion, these five features (cibil score, annual income, interest rate, loan amount, and debt-to-income ratio) are the sole determinants of the target variable."
   ]
  },
  {
   "cell_type": "markdown",
   "metadata": {},
   "source": [
    "# lests test here with heatmap\n",
    "\n",
    "by keeping  cibil score, annual income, interest rate, loan amount and drping the rest"
   ]
  },
  {
   "cell_type": "code",
   "execution_count": null,
   "metadata": {},
   "outputs": [
    {
     "data": {
      "text/plain": [
       "<Axes: >"
      ]
     },
     "execution_count": 14,
     "metadata": {},
     "output_type": "execute_result"
    },
    {
     "data": {
      "image/png": "[encoded data removed]",
      "text/plain": [
       "<Figure size 1000x600 with 2 Axes>"
      ]
     },
     "metadata": {},
     "output_type": "display_data"
    }
   ],
   "source": [
    "train_data=train_data.drop(['loan_status', 'customer_id', 'transaction_date','term','sub_grade','home_ownership','total_no_of_acc','purpose','application_type','verification_status','installment',\"account_bal\",\"emp_length\"], axis=1)\n",
    "import seaborn as sns\n",
    "plt.figure(figsize=(10,6))\n",
    "sns.heatmap(train_data.corr(),annot=True)"
   ]
  },
  {
   "cell_type": "markdown",
   "metadata": {},
   "source": [
    "#### There appears to be a positive correlation between loan amount and interest rate, indicated by the darker shade of red. This suggests that larger loan amounts tend to be associated with higher interest rates."
   ]
  },
  {
   "cell_type": "markdown",
   "metadata": {},
   "source": [
    "#### Loan Amount and Interest Rate: The strong positive correlation between loan amount and interest rate is an important observation."
   ]
  },
  {
   "cell_type": "markdown",
   "metadata": {},
   "source": [
    "#### Hence the Selected features  **cibil score**, **annual income**, **interest rate**, **loan amount**"
   ]
  },
  {
   "cell_type": "markdown",
   "metadata": {},
   "source": []
  }
 ],
 "metadata": {
  "kernelspec": {
   "display_name": "Python 3",
   "language": "python",
   "name": "python3"
  },
  "language_info": {
   "codemirror_mode": {
    "name": "ipython",
    "version": 3
   },
   "file_extension": ".py",
   "mimetype": "text/x-python",
   "name": "python",
   "nbconvert_exporter": "python",
   "pygments_lexer": "ipython3",
   "version": "3.11.1"
  }
 },
 "nbformat": 4,
 "nbformat_minor": 2
}
